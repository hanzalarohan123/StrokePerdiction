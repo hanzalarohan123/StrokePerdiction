{
  "nbformat": 4,
  "nbformat_minor": 0,
  "metadata": {
    "colab": {
      "name": "Stroke_Proejct.ipynb",
      "provenance": [],
      "collapsed_sections": []
    },
    "kernelspec": {
      "name": "python3",
      "display_name": "Python 3"
    },
    "language_info": {
      "name": "python"
    }
  },
  "cells": [
    {
      "cell_type": "code",
      "metadata": {
        "colab": {
          "base_uri": "https://localhost:8080/"
        },
        "id": "0_TTpNhgugsy",
        "outputId": "78048bde-c181-414e-fdfb-c5ecfd726679"
      },
      "source": [
        "from google.colab import drive\n",
        "drive.mount('/content/gdrive')\n",
        "%cd /content/gdrive/My Drive/Kaggle\n",
        "!ls"
      ],
      "execution_count": null,
      "outputs": [
        {
          "output_type": "stream",
          "text": [
            "Mounted at /content/gdrive\n",
            "/content/gdrive/My Drive/Kaggle\n",
            " adult.csv   data_stroke.csv   Lets   Reviews.csv  'TripAdvisor Reviews.csv'\n"
          ],
          "name": "stdout"
        }
      ]
    },
    {
      "cell_type": "code",
      "metadata": {
        "id": "f0XlX7RLwQ46"
      },
      "source": [
        "import pandas as pd"
      ],
      "execution_count": null,
      "outputs": []
    },
    {
      "cell_type": "code",
      "metadata": {
        "id": "4G19svlaxOBQ"
      },
      "source": [
        "import seaborn as sns; sns.set_theme()\n",
        "import matplotlib.pyplot as plt\n"
      ],
      "execution_count": null,
      "outputs": []
    },
    {
      "cell_type": "code",
      "metadata": {
        "id": "dThReZ1WwWt6"
      },
      "source": [
        "df=pd.read_csv('data_stroke.csv')"
      ],
      "execution_count": null,
      "outputs": []
    },
    {
      "cell_type": "code",
      "metadata": {
        "colab": {
          "base_uri": "https://localhost:8080/"
        },
        "id": "9ysDoIsWwjRU",
        "outputId": "15ba7d86-b889-44f3-fa4b-0d0fffa33887"
      },
      "source": [
        "df.shape"
      ],
      "execution_count": null,
      "outputs": [
        {
          "output_type": "execute_result",
          "data": {
            "text/plain": [
              "(5110, 12)"
            ]
          },
          "metadata": {
            "tags": []
          },
          "execution_count": 26
        }
      ]
    },
    {
      "cell_type": "code",
      "metadata": {
        "colab": {
          "base_uri": "https://localhost:8080/",
          "height": 375
        },
        "id": "1adPGNB41bfF",
        "outputId": "e767c435-4e8b-4ba8-cfd1-bcb9ce8d3392"
      },
      "source": [
        "sns.heatmap(df.isna(),yticklabels=False,cbar=False)"
      ],
      "execution_count": null,
      "outputs": [
        {
          "output_type": "execute_result",
          "data": {
            "text/plain": [
              "<matplotlib.axes._subplots.AxesSubplot at 0x7fde17aeb110>"
            ]
          },
          "metadata": {
            "tags": []
          },
          "execution_count": 27
        },
        {
          "output_type": "display_data",
          "data": {
            "image/png": "[encoded data removed]",
            "text/plain": [
              "<Figure size 1440x288 with 1 Axes>"
            ]
          },
          "metadata": {
            "tags": []
          }
        }
      ]
    },
    {
      "cell_type": "code",
      "metadata": {
        "colab": {
          "base_uri": "https://localhost:8080/"
        },
        "id": "LnoCx2gzwp1x",
        "outputId": "04b49311-f40e-4fda-9fc3-d9693c1b1be6"
      },
      "source": [
        "df.isnull().sum()"
      ],
      "execution_count": null,
      "outputs": [
        {
          "output_type": "execute_result",
          "data": {
            "text/plain": [
              "id                     0\n",
              "gender                 0\n",
              "age                    0\n",
              "hypertension           0\n",
              "heart_disease          0\n",
              "ever_married           0\n",
              "work_type              0\n",
              "Residence_type         0\n",
              "avg_glucose_level      0\n",
              "bmi                  201\n",
              "smoking_status         0\n",
              "stroke                 0\n",
              "dtype: int64"
            ]
          },
          "metadata": {
            "tags": []
          },
          "execution_count": 29
        }
      ]
    },
    {
      "cell_type": "code",
      "metadata": {
        "id": "MToflAKBydD-"
      },
      "source": [
        "df[\"bmi\"] = df[\"bmi\"].fillna(value=df[\"bmi\"].mean())"
      ],
      "execution_count": null,
      "outputs": []
    },
    {
      "cell_type": "code",
      "metadata": {
        "id": "X228jso1_fk-"
      },
      "source": [
        "df=df.drop(['id'],axis=1)"
      ],
      "execution_count": null,
      "outputs": []
    },
    {
      "cell_type": "code",
      "metadata": {
        "colab": {
          "base_uri": "https://localhost:8080/"
        },
        "id": "b-BJyD0Oy6N3",
        "outputId": "14224219-d1ae-443f-ca17-d80207f9aa4d"
      },
      "source": [
        "df.isnull().sum()"
      ],
      "execution_count": null,
      "outputs": [
        {
          "output_type": "execute_result",
          "data": {
            "text/plain": [
              "gender               0\n",
              "age                  0\n",
              "hypertension         0\n",
              "heart_disease        0\n",
              "ever_married         0\n",
              "work_type            0\n",
              "Residence_type       0\n",
              "avg_glucose_level    0\n",
              "bmi                  0\n",
              "smoking_status       0\n",
              "stroke               0\n",
              "dtype: int64"
            ]
          },
          "metadata": {
            "tags": []
          },
          "execution_count": 32
        }
      ]
    },
    {
      "cell_type": "code",
      "metadata": {
        "colab": {
          "base_uri": "https://localhost:8080/",
          "height": 361
        },
        "id": "XxE4ouAK1shM",
        "outputId": "28a4b712-c501-452a-fbde-2eebb6f6891c"
      },
      "source": [
        "plt.rcParams['figure.figsize'] = (20, 4)\n",
        "sns.countplot(df['gender'], palette = 'rainbow')\n",
        "plt.title('Gender info', fontsize = 20)\n",
        "plt.show()"
      ],
      "execution_count": null,
      "outputs": [
        {
          "output_type": "stream",
          "text": [
            "/usr/local/lib/python3.7/dist-packages/seaborn/_decorators.py:43: FutureWarning: Pass the following variable as a keyword arg: x. From version 0.12, the only valid positional argument will be `data`, and passing other arguments without an explicit keyword will result in an error or misinterpretation.\n",
            "  FutureWarning\n"
          ],
          "name": "stderr"
        },
        {
          "output_type": "display_data",
          "data": {
            "image/png": "[encoded data removed]",
            "text/plain": [
              "<Figure size 1440x288 with 1 Axes>"
            ]
          },
          "metadata": {
            "tags": []
          }
        }
      ]
    },
    {
      "cell_type": "code",
      "metadata": {
        "colab": {
          "base_uri": "https://localhost:8080/",
          "height": 361
        },
        "id": "vI8ODbtv5-zl",
        "outputId": "3f746c4c-76ae-4118-fc22-86d72a8df38c"
      },
      "source": [
        "plt.rcParams['figure.figsize'] = (20, 4)\n",
        "sns.countplot(df['Residence_type'], palette = 'rainbow')\n",
        "plt.title('Residence_type info', fontsize = 20)\n",
        "plt.show()"
      ],
      "execution_count": null,
      "outputs": [
        {
          "output_type": "stream",
          "text": [
            "/usr/local/lib/python3.7/dist-packages/seaborn/_decorators.py:43: FutureWarning: Pass the following variable as a keyword arg: x. From version 0.12, the only valid positional argument will be `data`, and passing other arguments without an explicit keyword will result in an error or misinterpretation.\n",
            "  FutureWarning\n"
          ],
          "name": "stderr"
        },
        {
          "output_type": "display_data",
          "data": {
            "image/png": "[encoded data removed]",
            "text/plain": [
              "<Figure size 1440x288 with 1 Axes>"
            ]
          },
          "metadata": {
            "tags": []
          }
        }
      ]
    },
    {
      "cell_type": "code",
      "metadata": {
        "colab": {
          "base_uri": "https://localhost:8080/",
          "height": 197
        },
        "id": "bregPjGT463r",
        "outputId": "4e231a05-7468-4cc7-bfcc-814e1e6df78b"
      },
      "source": [
        "df.head()"
      ],
      "execution_count": null,
      "outputs": [
        {
          "output_type": "execute_result",
          "data": {
            "text/html": [
              "<div>\n",
              "<style scoped>\n",
              "    .dataframe tbody tr th:only-of-type {\n",
              "        vertical-align: middle;\n",
              "    }\n",
              "\n",
              "    .dataframe tbody tr th {\n",
              "        vertical-align: top;\n",
              "    }\n",
              "\n",
              "    .dataframe thead th {\n",
              "        text-align: right;\n",
              "    }\n",
              "</style>\n",
              "<table border=\"1\" class=\"dataframe\">\n",
              "  <thead>\n",
              "    <tr style=\"text-align: right;\">\n",
              "      <th></th>\n",
              "      <th>gender</th>\n",
              "      <th>age</th>\n",
              "      <th>hypertension</th>\n",
              "      <th>heart_disease</th>\n",
              "      <th>ever_married</th>\n",
              "      <th>work_type</th>\n",
              "      <th>Residence_type</th>\n",
              "      <th>avg_glucose_level</th>\n",
              "      <th>bmi</th>\n",
              "      <th>smoking_status</th>\n",
              "      <th>stroke</th>\n",
              "    </tr>\n",
              "  </thead>\n",
              "  <tbody>\n",
              "    <tr>\n",
              "      <th>0</th>\n",
              "      <td>Male</td>\n",
              "      <td>67.0</td>\n",
              "      <td>0</td>\n",
              "      <td>1</td>\n",
              "      <td>Yes</td>\n",
              "      <td>Private</td>\n",
              "      <td>Urban</td>\n",
              "      <td>228.69</td>\n",
              "      <td>36.600000</td>\n",
              "      <td>formerly smoked</td>\n",
              "      <td>1</td>\n",
              "    </tr>\n",
              "    <tr>\n",
              "      <th>1</th>\n",
              "      <td>Female</td>\n",
              "      <td>61.0</td>\n",
              "      <td>0</td>\n",
              "      <td>0</td>\n",
              "      <td>Yes</td>\n",
              "      <td>Self-employed</td>\n",
              "      <td>Rural</td>\n",
              "      <td>202.21</td>\n",
              "      <td>28.893237</td>\n",
              "      <td>never smoked</td>\n",
              "      <td>1</td>\n",
              "    </tr>\n",
              "    <tr>\n",
              "      <th>2</th>\n",
              "      <td>Male</td>\n",
              "      <td>80.0</td>\n",
              "      <td>0</td>\n",
              "      <td>1</td>\n",
              "      <td>Yes</td>\n",
              "      <td>Private</td>\n",
              "      <td>Rural</td>\n",
              "      <td>105.92</td>\n",
              "      <td>32.500000</td>\n",
              "      <td>never smoked</td>\n",
              "      <td>1</td>\n",
              "    </tr>\n",
              "    <tr>\n",
              "      <th>3</th>\n",
              "      <td>Female</td>\n",
              "      <td>49.0</td>\n",
              "      <td>0</td>\n",
              "      <td>0</td>\n",
              "      <td>Yes</td>\n",
              "      <td>Private</td>\n",
              "      <td>Urban</td>\n",
              "      <td>171.23</td>\n",
              "      <td>34.400000</td>\n",
              "      <td>smokes</td>\n",
              "      <td>1</td>\n",
              "    </tr>\n",
              "    <tr>\n",
              "      <th>4</th>\n",
              "      <td>Female</td>\n",
              "      <td>79.0</td>\n",
              "      <td>1</td>\n",
              "      <td>0</td>\n",
              "      <td>Yes</td>\n",
              "      <td>Self-employed</td>\n",
              "      <td>Rural</td>\n",
              "      <td>174.12</td>\n",
              "      <td>24.000000</td>\n",
              "      <td>never smoked</td>\n",
              "      <td>1</td>\n",
              "    </tr>\n",
              "  </tbody>\n",
              "</table>\n",
              "</div>"
            ],
            "text/plain": [
              "   gender   age  hypertension  ...        bmi   smoking_status stroke\n",
              "0    Male  67.0             0  ...  36.600000  formerly smoked      1\n",
              "1  Female  61.0             0  ...  28.893237     never smoked      1\n",
              "2    Male  80.0             0  ...  32.500000     never smoked      1\n",
              "3  Female  49.0             0  ...  34.400000           smokes      1\n",
              "4  Female  79.0             1  ...  24.000000     never smoked      1\n",
              "\n",
              "[5 rows x 11 columns]"
            ]
          },
          "metadata": {
            "tags": []
          },
          "execution_count": 35
        }
      ]
    },
    {
      "cell_type": "code",
      "metadata": {
        "id": "WgUSFtN5zDax"
      },
      "source": [
        "from sklearn import preprocessing\n",
        "#no priority issue will bump here because female ratio is higher so value of 0 is good \n",
        "# label_encoder object knows how to understand word labels.\n",
        "label_encoder = preprocessing.LabelEncoder()\n",
        "  \n",
        "# Encode labels in column 'gender'.\n",
        "df['gender']= label_encoder.fit_transform(df['gender'])\n",
        "df['ever_married']= label_encoder.fit_transform(df['ever_married'])\n",
        "df['work_type']= label_encoder.fit_transform(df['work_type'])\n",
        "df['Residence_type']= label_encoder.fit_transform(df['Residence_type'])\n",
        "df['smoking_status']= label_encoder.fit_transform(df['smoking_status'])\n",
        "  \n"
      ],
      "execution_count": null,
      "outputs": []
    },
    {
      "cell_type": "code",
      "metadata": {
        "colab": {
          "base_uri": "https://localhost:8080/",
          "height": 197
        },
        "id": "tpfWs4G86Okw",
        "outputId": "27a0938c-54d2-4bf3-c5d4-82603cb32b21"
      },
      "source": [
        "df.head()"
      ],
      "execution_count": null,
      "outputs": [
        {
          "output_type": "execute_result",
          "data": {
            "text/html": [
              "<div>\n",
              "<style scoped>\n",
              "    .dataframe tbody tr th:only-of-type {\n",
              "        vertical-align: middle;\n",
              "    }\n",
              "\n",
              "    .dataframe tbody tr th {\n",
              "        vertical-align: top;\n",
              "    }\n",
              "\n",
              "    .dataframe thead th {\n",
              "        text-align: right;\n",
              "    }\n",
              "</style>\n",
              "<table border=\"1\" class=\"dataframe\">\n",
              "  <thead>\n",
              "    <tr style=\"text-align: right;\">\n",
              "      <th></th>\n",
              "      <th>gender</th>\n",
              "      <th>age</th>\n",
              "      <th>hypertension</th>\n",
              "      <th>heart_disease</th>\n",
              "      <th>ever_married</th>\n",
              "      <th>work_type</th>\n",
              "      <th>Residence_type</th>\n",
              "      <th>avg_glucose_level</th>\n",
              "      <th>bmi</th>\n",
              "      <th>smoking_status</th>\n",
              "      <th>stroke</th>\n",
              "    </tr>\n",
              "  </thead>\n",
              "  <tbody>\n",
              "    <tr>\n",
              "      <th>0</th>\n",
              "      <td>1</td>\n",
              "      <td>67.0</td>\n",
              "      <td>0</td>\n",
              "      <td>1</td>\n",
              "      <td>1</td>\n",
              "      <td>2</td>\n",
              "      <td>1</td>\n",
              "      <td>228.69</td>\n",
              "      <td>36.600000</td>\n",
              "      <td>1</td>\n",
              "      <td>1</td>\n",
              "    </tr>\n",
              "    <tr>\n",
              "      <th>1</th>\n",
              "      <td>0</td>\n",
              "      <td>61.0</td>\n",
              "      <td>0</td>\n",
              "      <td>0</td>\n",
              "      <td>1</td>\n",
              "      <td>3</td>\n",
              "      <td>0</td>\n",
              "      <td>202.21</td>\n",
              "      <td>28.893237</td>\n",
              "      <td>2</td>\n",
              "      <td>1</td>\n",
              "    </tr>\n",
              "    <tr>\n",
              "      <th>2</th>\n",
              "      <td>1</td>\n",
              "      <td>80.0</td>\n",
              "      <td>0</td>\n",
              "      <td>1</td>\n",
              "      <td>1</td>\n",
              "      <td>2</td>\n",
              "      <td>0</td>\n",
              "      <td>105.92</td>\n",
              "      <td>32.500000</td>\n",
              "      <td>2</td>\n",
              "      <td>1</td>\n",
              "    </tr>\n",
              "    <tr>\n",
              "      <th>3</th>\n",
              "      <td>0</td>\n",
              "      <td>49.0</td>\n",
              "      <td>0</td>\n",
              "      <td>0</td>\n",
              "      <td>1</td>\n",
              "      <td>2</td>\n",
              "      <td>1</td>\n",
              "      <td>171.23</td>\n",
              "      <td>34.400000</td>\n",
              "      <td>3</td>\n",
              "      <td>1</td>\n",
              "    </tr>\n",
              "    <tr>\n",
              "      <th>4</th>\n",
              "      <td>0</td>\n",
              "      <td>79.0</td>\n",
              "      <td>1</td>\n",
              "      <td>0</td>\n",
              "      <td>1</td>\n",
              "      <td>3</td>\n",
              "      <td>0</td>\n",
              "      <td>174.12</td>\n",
              "      <td>24.000000</td>\n",
              "      <td>2</td>\n",
              "      <td>1</td>\n",
              "    </tr>\n",
              "  </tbody>\n",
              "</table>\n",
              "</div>"
            ],
            "text/plain": [
              "   gender   age  hypertension  ...        bmi  smoking_status  stroke\n",
              "0       1  67.0             0  ...  36.600000               1       1\n",
              "1       0  61.0             0  ...  28.893237               2       1\n",
              "2       1  80.0             0  ...  32.500000               2       1\n",
              "3       0  49.0             0  ...  34.400000               3       1\n",
              "4       0  79.0             1  ...  24.000000               2       1\n",
              "\n",
              "[5 rows x 11 columns]"
            ]
          },
          "metadata": {
            "tags": []
          },
          "execution_count": 37
        }
      ]
    },
    {
      "cell_type": "code",
      "metadata": {
        "colab": {
          "base_uri": "https://localhost:8080/",
          "height": 362
        },
        "id": "AgqSnHBTxyf2",
        "outputId": "11993e40-98cd-4c40-d156-84ab5297aa71"
      },
      "source": [
        "ax = sns.heatmap(df)"
      ],
      "execution_count": null,
      "outputs": [
        {
          "output_type": "display_data",
          "data": {
            "image/png": "[encoded data removed]",
            "text/plain": [
              "<Figure size 1440x288 with 2 Axes>"
            ]
          },
          "metadata": {
            "tags": []
          }
        }
      ]
    },
    {
      "cell_type": "code",
      "metadata": {
        "colab": {
          "base_uri": "https://localhost:8080/",
          "height": 616
        },
        "id": "dkapXjl68mix",
        "outputId": "e9951532-2d0d-4404-de7a-58d685cbb2bc"
      },
      "source": [
        "plt.figure(figsize=(25,10))\n",
        "sns.heatmap(df.corr(),cmap='RdYlGn',annot=True)"
      ],
      "execution_count": null,
      "outputs": [
        {
          "output_type": "execute_result",
          "data": {
            "text/plain": [
              "<matplotlib.axes._subplots.AxesSubplot at 0x7fde15fe7c10>"
            ]
          },
          "metadata": {
            "tags": []
          },
          "execution_count": 39
        },
        {
          "output_type": "display_data",
          "data": {
            "image/png": "[encoded data removed]",
            "text/plain": [
              "<Figure size 1800x720 with 2 Axes>"
            ]
          },
          "metadata": {
            "tags": []
          }
        }
      ]
    },
    {
      "cell_type": "code",
      "metadata": {
        "colab": {
          "base_uri": "https://localhost:8080/",
          "height": 406
        },
        "id": "0z7-rg6L_63A",
        "outputId": "6cc8b3ab-5138-415c-bcb2-31225cce958a"
      },
      "source": [
        "df"
      ],
      "execution_count": null,
      "outputs": [
        {
          "output_type": "execute_result",
          "data": {
            "text/html": [
              "<div>\n",
              "<style scoped>\n",
              "    .dataframe tbody tr th:only-of-type {\n",
              "        vertical-align: middle;\n",
              "    }\n",
              "\n",
              "    .dataframe tbody tr th {\n",
              "        vertical-align: top;\n",
              "    }\n",
              "\n",
              "    .dataframe thead th {\n",
              "        text-align: right;\n",
              "    }\n",
              "</style>\n",
              "<table border=\"1\" class=\"dataframe\">\n",
              "  <thead>\n",
              "    <tr style=\"text-align: right;\">\n",
              "      <th></th>\n",
              "      <th>gender</th>\n",
              "      <th>age</th>\n",
              "      <th>hypertension</th>\n",
              "      <th>heart_disease</th>\n",
              "      <th>ever_married</th>\n",
              "      <th>work_type</th>\n",
              "      <th>Residence_type</th>\n",
              "      <th>avg_glucose_level</th>\n",
              "      <th>bmi</th>\n",
              "      <th>smoking_status</th>\n",
              "      <th>stroke</th>\n",
              "    </tr>\n",
              "  </thead>\n",
              "  <tbody>\n",
              "    <tr>\n",
              "      <th>0</th>\n",
              "      <td>1</td>\n",
              "      <td>67.0</td>\n",
              "      <td>0</td>\n",
              "      <td>1</td>\n",
              "      <td>1</td>\n",
              "      <td>2</td>\n",
              "      <td>1</td>\n",
              "      <td>228.69</td>\n",
              "      <td>36.600000</td>\n",
              "      <td>1</td>\n",
              "      <td>1</td>\n",
              "    </tr>\n",
              "    <tr>\n",
              "      <th>1</th>\n",
              "      <td>0</td>\n",
              "      <td>61.0</td>\n",
              "      <td>0</td>\n",
              "      <td>0</td>\n",
              "      <td>1</td>\n",
              "      <td>3</td>\n",
              "      <td>0</td>\n",
              "      <td>202.21</td>\n",
              "      <td>28.893237</td>\n",
              "      <td>2</td>\n",
              "      <td>1</td>\n",
              "    </tr>\n",
              "    <tr>\n",
              "      <th>2</th>\n",
              "      <td>1</td>\n",
              "      <td>80.0</td>\n",
              "      <td>0</td>\n",
              "      <td>1</td>\n",
              "      <td>1</td>\n",
              "      <td>2</td>\n",
              "      <td>0</td>\n",
              "      <td>105.92</td>\n",
              "      <td>32.500000</td>\n",
              "      <td>2</td>\n",
              "      <td>1</td>\n",
              "    </tr>\n",
              "    <tr>\n",
              "      <th>3</th>\n",
              "      <td>0</td>\n",
              "      <td>49.0</td>\n",
              "      <td>0</td>\n",
              "      <td>0</td>\n",
              "      <td>1</td>\n",
              "      <td>2</td>\n",
              "      <td>1</td>\n",
              "      <td>171.23</td>\n",
              "      <td>34.400000</td>\n",
              "      <td>3</td>\n",
              "      <td>1</td>\n",
              "    </tr>\n",
              "    <tr>\n",
              "      <th>4</th>\n",
              "      <td>0</td>\n",
              "      <td>79.0</td>\n",
              "      <td>1</td>\n",
              "      <td>0</td>\n",
              "      <td>1</td>\n",
              "      <td>3</td>\n",
              "      <td>0</td>\n",
              "      <td>174.12</td>\n",
              "      <td>24.000000</td>\n",
              "      <td>2</td>\n",
              "      <td>1</td>\n",
              "    </tr>\n",
              "    <tr>\n",
              "      <th>...</th>\n",
              "      <td>...</td>\n",
              "      <td>...</td>\n",
              "      <td>...</td>\n",
              "      <td>...</td>\n",
              "      <td>...</td>\n",
              "      <td>...</td>\n",
              "      <td>...</td>\n",
              "      <td>...</td>\n",
              "      <td>...</td>\n",
              "      <td>...</td>\n",
              "      <td>...</td>\n",
              "    </tr>\n",
              "    <tr>\n",
              "      <th>5105</th>\n",
              "      <td>0</td>\n",
              "      <td>80.0</td>\n",
              "      <td>1</td>\n",
              "      <td>0</td>\n",
              "      <td>1</td>\n",
              "      <td>2</td>\n",
              "      <td>1</td>\n",
              "      <td>83.75</td>\n",
              "      <td>28.893237</td>\n",
              "      <td>2</td>\n",
              "      <td>0</td>\n",
              "    </tr>\n",
              "    <tr>\n",
              "      <th>5106</th>\n",
              "      <td>0</td>\n",
              "      <td>81.0</td>\n",
              "      <td>0</td>\n",
              "      <td>0</td>\n",
              "      <td>1</td>\n",
              "      <td>3</td>\n",
              "      <td>1</td>\n",
              "      <td>125.20</td>\n",
              "      <td>40.000000</td>\n",
              "      <td>2</td>\n",
              "      <td>0</td>\n",
              "    </tr>\n",
              "    <tr>\n",
              "      <th>5107</th>\n",
              "      <td>0</td>\n",
              "      <td>35.0</td>\n",
              "      <td>0</td>\n",
              "      <td>0</td>\n",
              "      <td>1</td>\n",
              "      <td>3</td>\n",
              "      <td>0</td>\n",
              "      <td>82.99</td>\n",
              "      <td>30.600000</td>\n",
              "      <td>2</td>\n",
              "      <td>0</td>\n",
              "    </tr>\n",
              "    <tr>\n",
              "      <th>5108</th>\n",
              "      <td>1</td>\n",
              "      <td>51.0</td>\n",
              "      <td>0</td>\n",
              "      <td>0</td>\n",
              "      <td>1</td>\n",
              "      <td>2</td>\n",
              "      <td>0</td>\n",
              "      <td>166.29</td>\n",
              "      <td>25.600000</td>\n",
              "      <td>1</td>\n",
              "      <td>0</td>\n",
              "    </tr>\n",
              "    <tr>\n",
              "      <th>5109</th>\n",
              "      <td>0</td>\n",
              "      <td>44.0</td>\n",
              "      <td>0</td>\n",
              "      <td>0</td>\n",
              "      <td>1</td>\n",
              "      <td>0</td>\n",
              "      <td>1</td>\n",
              "      <td>85.28</td>\n",
              "      <td>26.200000</td>\n",
              "      <td>0</td>\n",
              "      <td>0</td>\n",
              "    </tr>\n",
              "  </tbody>\n",
              "</table>\n",
              "<p>5110 rows × 11 columns</p>\n",
              "</div>"
            ],
            "text/plain": [
              "      gender   age  hypertension  ...        bmi  smoking_status  stroke\n",
              "0          1  67.0             0  ...  36.600000               1       1\n",
              "1          0  61.0             0  ...  28.893237               2       1\n",
              "2          1  80.0             0  ...  32.500000               2       1\n",
              "3          0  49.0             0  ...  34.400000               3       1\n",
              "4          0  79.0             1  ...  24.000000               2       1\n",
              "...      ...   ...           ...  ...        ...             ...     ...\n",
              "5105       0  80.0             1  ...  28.893237               2       0\n",
              "5106       0  81.0             0  ...  40.000000               2       0\n",
              "5107       0  35.0             0  ...  30.600000               2       0\n",
              "5108       1  51.0             0  ...  25.600000               1       0\n",
              "5109       0  44.0             0  ...  26.200000               0       0\n",
              "\n",
              "[5110 rows x 11 columns]"
            ]
          },
          "metadata": {
            "tags": []
          },
          "execution_count": 40
        }
      ]
    },
    {
      "cell_type": "code",
      "metadata": {
        "id": "TRd6WIctAP8U"
      },
      "source": [
        "from sklearn.linear_model import LinearRegression\n",
        "from sklearn.svm import SVC\n",
        "from sklearn.model_selection import train_test_split\n",
        "import math as m\n",
        "import os\n",
        "from sklearn.preprocessing import StandardScaler\n",
        "from sklearn.neighbors import KNeighborsClassifier\n",
        "from sklearn.tree import DecisionTreeClassifier\n",
        "from sklearn.naive_bayes import GaussianNB\n",
        "from sklearn.metrics import classification_report, confusion_matrix, accuracy_score"
      ],
      "execution_count": null,
      "outputs": []
    },
    {
      "cell_type": "code",
      "metadata": {
        "id": "s1BW87Bo5n0m"
      },
      "source": [
        "X_train,X_test,y_train,y_test =train_test_split(df.drop(['stroke'],axis=1),df.stroke,test_size=0.30,random_state=0)"
      ],
      "execution_count": null,
      "outputs": []
    },
    {
      "cell_type": "code",
      "metadata": {
        "colab": {
          "base_uri": "https://localhost:8080/"
        },
        "id": "XCxercQz6QYB",
        "outputId": "8e93df7a-38aa-40d7-874f-efcc6c7b2718"
      },
      "source": [
        "svc_model = SVC()\n",
        "svc_model.fit(X_train,y_train)\n",
        "svc_pred = svc_model.predict(X_test)\n",
        "svc_cm = confusion_matrix(y_test,svc_pred)\n",
        "svc_cr = classification_report(y_test,svc_pred)\n",
        "svc_as = accuracy_score(y_test,svc_pred)"
      ],
      "execution_count": null,
      "outputs": [
        {
          "output_type": "stream",
          "text": [
            "/usr/local/lib/python3.7/dist-packages/sklearn/metrics/_classification.py:1272: UndefinedMetricWarning: Precision and F-score are ill-defined and being set to 0.0 in labels with no predicted samples. Use `zero_division` parameter to control this behavior.\n",
            "  _warn_prf(average, modifier, msg_start, len(result))\n"
          ],
          "name": "stderr"
        }
      ]
    },
    {
      "cell_type": "code",
      "metadata": {
        "id": "c6WS5WYi6aVX"
      },
      "source": [
        "knn = KNeighborsClassifier(n_neighbors=3)\n",
        "knn.fit(X_train,y_train)\n",
        "knn_pred = knn.predict(X_test)\n",
        "knn_cm = confusion_matrix(y_test,knn_pred)\n",
        "knn_cr = classification_report(y_test,knn_pred)\n",
        "knn_as = accuracy_score(y_test,knn_pred)"
      ],
      "execution_count": null,
      "outputs": []
    },
    {
      "cell_type": "code",
      "metadata": {
        "id": "W2cixmJ76f9w"
      },
      "source": [
        "dtc = DecisionTreeClassifier()\n",
        "dtc.fit(X_train,y_train)\n",
        "dtc_pred = dtc.predict(X_test)\n",
        "dtc_cm = confusion_matrix(y_test,dtc_pred)\n",
        "dtc_cr = classification_report(y_test,dtc_pred)\n",
        "dtc_as = accuracy_score(y_test,dtc_pred)"
      ],
      "execution_count": null,
      "outputs": []
    },
    {
      "cell_type": "code",
      "metadata": {
        "id": "l0CF2xPI6i5I"
      },
      "source": [
        "nbc = GaussianNB()\n",
        "nbc.fit(X_train,y_train)\n",
        "nbc_pred = nbc.predict(X_test)\n",
        "nbc_cm = confusion_matrix(y_test,nbc_pred)\n",
        "nbc_cr = classification_report(y_test,nbc_pred)\n",
        "nbc_as = accuracy_score(y_test,nbc_pred)"
      ],
      "execution_count": null,
      "outputs": []
    },
    {
      "cell_type": "code",
      "metadata": {
        "colab": {
          "base_uri": "https://localhost:8080/"
        },
        "id": "mEogcNel6nm0",
        "outputId": "ff1f5fa6-80e2-4293-dec0-425a6dec5726"
      },
      "source": [
        "print(svc_cm)\n",
        "print(svc_cr)\n",
        "print(svc_as)"
      ],
      "execution_count": null,
      "outputs": [
        {
          "output_type": "stream",
          "text": [
            "[[1457    0]\n",
            " [  76    0]]\n",
            "              precision    recall  f1-score   support\n",
            "\n",
            "           0       0.95      1.00      0.97      1457\n",
            "           1       0.00      0.00      0.00        76\n",
            "\n",
            "    accuracy                           0.95      1533\n",
            "   macro avg       0.48      0.50      0.49      1533\n",
            "weighted avg       0.90      0.95      0.93      1533\n",
            "\n",
            "0.9504240052185258\n"
          ],
          "name": "stdout"
        }
      ]
    },
    {
      "cell_type": "code",
      "metadata": {
        "colab": {
          "base_uri": "https://localhost:8080/"
        },
        "id": "mNH-XRwE6oC_",
        "outputId": "d52d9ab7-9350-4f4e-edb3-8bc5163be4c3"
      },
      "source": [
        "print(knn_cm)\n",
        "print(knn_cr)\n",
        "print(knn_as)"
      ],
      "execution_count": null,
      "outputs": [
        {
          "output_type": "stream",
          "text": [
            "[[1435   22]\n",
            " [  71    5]]\n",
            "              precision    recall  f1-score   support\n",
            "\n",
            "           0       0.95      0.98      0.97      1457\n",
            "           1       0.19      0.07      0.10        76\n",
            "\n",
            "    accuracy                           0.94      1533\n",
            "   macro avg       0.57      0.53      0.53      1533\n",
            "weighted avg       0.91      0.94      0.93      1533\n",
            "\n",
            "0.9393346379647749\n"
          ],
          "name": "stdout"
        }
      ]
    },
    {
      "cell_type": "code",
      "metadata": {
        "colab": {
          "base_uri": "https://localhost:8080/"
        },
        "id": "On98KGeD6rFC",
        "outputId": "0eaa20b2-a616-4a61-f7b0-d7f786d70fbf"
      },
      "source": [
        "print(dtc_cm)\n",
        "print(dtc_cr)\n",
        "print(dtc_as)"
      ],
      "execution_count": null,
      "outputs": [
        {
          "output_type": "stream",
          "text": [
            "[[1398   59]\n",
            " [  63   13]]\n",
            "              precision    recall  f1-score   support\n",
            "\n",
            "           0       0.96      0.96      0.96      1457\n",
            "           1       0.18      0.17      0.18        76\n",
            "\n",
            "    accuracy                           0.92      1533\n",
            "   macro avg       0.57      0.57      0.57      1533\n",
            "weighted avg       0.92      0.92      0.92      1533\n",
            "\n",
            "0.9204174820613177\n"
          ],
          "name": "stdout"
        }
      ]
    },
    {
      "cell_type": "code",
      "metadata": {
        "colab": {
          "base_uri": "https://localhost:8080/"
        },
        "id": "p_Hy-UK06uVV",
        "outputId": "b18faa0f-d265-40a7-fd54-004ed2a78744"
      },
      "source": [
        "print(nbc_cm)\n",
        "print(nbc_cr)\n",
        "print(nbc_as)"
      ],
      "execution_count": null,
      "outputs": [
        {
          "output_type": "stream",
          "text": [
            "[[1314  143]\n",
            " [  44   32]]\n",
            "              precision    recall  f1-score   support\n",
            "\n",
            "           0       0.97      0.90      0.93      1457\n",
            "           1       0.18      0.42      0.25        76\n",
            "\n",
            "    accuracy                           0.88      1533\n",
            "   macro avg       0.58      0.66      0.59      1533\n",
            "weighted avg       0.93      0.88      0.90      1533\n",
            "\n",
            "0.878016960208741\n"
          ],
          "name": "stdout"
        }
      ]
    },
    {
      "cell_type": "code",
      "metadata": {
        "colab": {
          "base_uri": "https://localhost:8080/"
        },
        "id": "hZYrSuM_6x0W",
        "outputId": "84e4db35-980b-4651-b84f-9c800bff1193"
      },
      "source": [
        "averaged_preds = (svc_pred + knn_pred + dtc_pred+nbc_pred)//4\n",
        "acc = accuracy_score(y_test, averaged_preds)\n",
        "print(svc_as)\n",
        "print(knn_as)\n",
        "print(dtc_as)\n",
        "print(nbc_as)\n",
        "print(acc)"
      ],
      "execution_count": null,
      "outputs": [
        {
          "output_type": "stream",
          "text": [
            "0.9504240052185258\n",
            "0.9393346379647749\n",
            "0.9204174820613177\n",
            "0.878016960208741\n",
            "0.9504240052185258\n"
          ],
          "name": "stdout"
        }
      ]
    },
    {
      "cell_type": "code",
      "metadata": {
        "id": "38NIGnZZ635V"
      },
      "source": [
        "from sklearn.ensemble import RandomForestClassifier, VotingClassifier\n",
        "from sklearn.model_selection import KFold\n",
        "from sklearn.model_selection import cross_val_score\n",
        "from sklearn.ensemble import AdaBoostClassifier\n",
        "from sklearn.model_selection import cross_val_score"
      ],
      "execution_count": null,
      "outputs": []
    },
    {
      "cell_type": "code",
      "metadata": {
        "colab": {
          "base_uri": "https://localhost:8080/"
        },
        "id": "Y0_C-3A267al",
        "outputId": "0e3951e6-bd2c-4cc0-fa76-191f6f5d7f46"
      },
      "source": [
        "voting_clf = VotingClassifier(estimators=[('SVC_hard', svc_model), ('DTC_hard', dtc), ('NBC_hard', nbc),('KNN_hard',knn)], voting='hard')\n",
        "voting_clf.fit(X_train, y_train)\n",
        "prediction=voting_clf.predict(X_test)\n",
        "print(confusion_matrix(y_test,prediction))\n",
        "print(classification_report(y_test,prediction))\n",
        "print(accuracy_score(y_test,prediction))"
      ],
      "execution_count": null,
      "outputs": [
        {
          "output_type": "stream",
          "text": [
            "[[1454    3]\n",
            " [  75    1]]\n",
            "              precision    recall  f1-score   support\n",
            "\n",
            "           0       0.95      1.00      0.97      1457\n",
            "           1       0.25      0.01      0.03        76\n",
            "\n",
            "    accuracy                           0.95      1533\n",
            "   macro avg       0.60      0.51      0.50      1533\n",
            "weighted avg       0.92      0.95      0.93      1533\n",
            "\n",
            "0.949119373776908\n"
          ],
          "name": "stdout"
        }
      ]
    },
    {
      "cell_type": "code",
      "metadata": {
        "colab": {
          "base_uri": "https://localhost:8080/"
        },
        "id": "Z-kCSVqW6-uw",
        "outputId": "b34f023b-5733-4a60-e6c5-28a124f6620c"
      },
      "source": [
        "voting_clf_soft = VotingClassifier(estimators=[('SVC_soft', SVC(probability=True)), ('DTC_soft', dtc), ('NBC_soft', nbc),('KNN_soft',knn)],voting='soft')\n",
        "voting_clf_soft.fit(X_train, y_train)\n",
        "predictions=voting_clf_soft.predict(X_test)\n",
        "print(confusion_matrix(y_test,predictions))\n",
        "print(classification_report(y_test,predictions))\n",
        "print(accuracy_score(y_test,predictions))"
      ],
      "execution_count": null,
      "outputs": [
        {
          "output_type": "stream",
          "text": [
            "[[1442   15]\n",
            " [  70    6]]\n",
            "              precision    recall  f1-score   support\n",
            "\n",
            "           0       0.95      0.99      0.97      1457\n",
            "           1       0.29      0.08      0.12        76\n",
            "\n",
            "    accuracy                           0.94      1533\n",
            "   macro avg       0.62      0.53      0.55      1533\n",
            "weighted avg       0.92      0.94      0.93      1533\n",
            "\n",
            "0.9445531637312459\n"
          ],
          "name": "stdout"
        }
      ]
    },
    {
      "cell_type": "code",
      "metadata": {
        "colab": {
          "base_uri": "https://localhost:8080/"
        },
        "id": "9gkPVoNi7CWL",
        "outputId": "e50125df-edcd-475b-984d-4d2e92981322"
      },
      "source": [
        "\n",
        "array=[10,20,40,60,80,100]\n",
        "for i in range(0,6):\n",
        "  random_forest = RandomForestClassifier(n_estimators=10)\n",
        "  random_forest.fit(X_train,y_train)\n",
        "  rf_predict=random_forest.predict(X_test)\n",
        "  print('Accuracy of Rain Forest when estimate is ',array[i], ' : ',accuracy_score(y_test,rf_predict))"
      ],
      "execution_count": null,
      "outputs": [
        {
          "output_type": "stream",
          "text": [
            "Accuracy of Rain Forest when estimate is  10  :  0.9484670580560991\n",
            "Accuracy of Rain Forest when estimate is  20  :  0.9478147423352903\n",
            "Accuracy of Rain Forest when estimate is  40  :  0.9478147423352903\n",
            "Accuracy of Rain Forest when estimate is  60  :  0.9478147423352903\n",
            "Accuracy of Rain Forest when estimate is  80  :  0.9478147423352903\n",
            "Accuracy of Rain Forest when estimate is  100  :  0.949119373776908\n"
          ],
          "name": "stdout"
        }
      ]
    },
    {
      "cell_type": "code",
      "metadata": {
        "colab": {
          "base_uri": "https://localhost:8080/"
        },
        "id": "JWnsJne77FwD",
        "outputId": "c37056b8-61b5-4556-e0a5-0c35e1b7d992"
      },
      "source": [
        "array=[10,20,40,60,80,100]\n",
        "for i in range(0,6):\n",
        "  ada_boost = AdaBoostClassifier(n_estimators=array[i], random_state=12)\n",
        "  ada_boost.fit(X_train,y_train)\n",
        "  ada_predict=ada_boost.predict(X_test)\n",
        "  print('Accuracy when estimate is ',array[i], ' : ',accuracy_score(y_test,ada_predict))"
      ],
      "execution_count": null,
      "outputs": [
        {
          "output_type": "stream",
          "text": [
            "Accuracy when estimate is  10  :  0.9504240052185258\n",
            "Accuracy when estimate is  20  :  0.9504240052185258\n",
            "Accuracy when estimate is  40  :  0.9497716894977168\n",
            "Accuracy when estimate is  60  :  0.9497716894977168\n",
            "Accuracy when estimate is  80  :  0.9484670580560991\n",
            "Accuracy when estimate is  100  :  0.9484670580560991\n"
          ],
          "name": "stdout"
        }
      ]
    },
    {
      "cell_type": "code",
      "metadata": {
        "colab": {
          "base_uri": "https://localhost:8080/"
        },
        "id": "YOjowDHg7NGs",
        "outputId": "c93bc666-2144-431a-ca24-55bbda9c7f98"
      },
      "source": [
        "kf=KFold(n_splits=5,shuffle=True)\n",
        "data=df.drop(['stroke'],axis=1)\n",
        "print(data)"
      ],
      "execution_count": null,
      "outputs": [
        {
          "output_type": "stream",
          "text": [
            "      gender   age  hypertension  ...  avg_glucose_level        bmi  smoking_status\n",
            "0          1  67.0             0  ...             228.69  36.600000               1\n",
            "1          0  61.0             0  ...             202.21  28.893237               2\n",
            "2          1  80.0             0  ...             105.92  32.500000               2\n",
            "3          0  49.0             0  ...             171.23  34.400000               3\n",
            "4          0  79.0             1  ...             174.12  24.000000               2\n",
            "...      ...   ...           ...  ...                ...        ...             ...\n",
            "5105       0  80.0             1  ...              83.75  28.893237               2\n",
            "5106       0  81.0             0  ...             125.20  40.000000               2\n",
            "5107       0  35.0             0  ...              82.99  30.600000               2\n",
            "5108       1  51.0             0  ...             166.29  25.600000               1\n",
            "5109       0  44.0             0  ...              85.28  26.200000               0\n",
            "\n",
            "[5110 rows x 10 columns]\n"
          ],
          "name": "stdout"
        }
      ]
    },
    {
      "cell_type": "code",
      "metadata": {
        "colab": {
          "base_uri": "https://localhost:8080/"
        },
        "id": "lD4t5dGF7Nuj",
        "outputId": "045d160b-8cbf-4cb2-d51a-0ac45e3d758e"
      },
      "source": [
        "array = array=[10,20,40,60,80,100]\n",
        "for i in range(0,6):\n",
        "  rf = RandomForestClassifier(n_estimators=array[i])\n",
        "  rf_accuracy=cross_val_score(rf,data,df.stroke,scoring='accuracy',cv=kf)\n",
        "  print('Rain Forest KFold accuracy when estimate is ',array[i],' : ', rf_accuracy.mean()*100)"
      ],
      "execution_count": null,
      "outputs": [
        {
          "output_type": "stream",
          "text": [
            "Rain Forest KFold accuracy when estimate is  10  :  94.7358121330724\n",
            "Rain Forest KFold accuracy when estimate is  20  :  95.04892367906066\n",
            "Rain Forest KFold accuracy when estimate is  40  :  94.9706457925636\n",
            "Rain Forest KFold accuracy when estimate is  60  :  94.9119373776908\n",
            "Rain Forest KFold accuracy when estimate is  80  :  95.06849315068493\n",
            "Rain Forest KFold accuracy when estimate is  100  :  94.95107632093934\n"
          ],
          "name": "stdout"
        }
      ]
    },
    {
      "cell_type": "code",
      "metadata": {
        "colab": {
          "base_uri": "https://localhost:8080/"
        },
        "id": "Yj5EOLnt7Ren",
        "outputId": "1c1c6430-7b57-4ce3-d638-291682db84e3"
      },
      "source": [
        "array=[10,20,40,60,80,100]\n",
        "for i in range(0,6):\n",
        "  ada_boost = AdaBoostClassifier(n_estimators=array[i])\n",
        "  ada_boost_accuracy=cross_val_score(rf,data,df.stroke,scoring='accuracy',cv=kf)\n",
        "  print('Ada Boost KFold accuracy when estimate is ',array[i],' : ', ada_boost_accuracy.mean()*100)"
      ],
      "execution_count": null,
      "outputs": [
        {
          "output_type": "stream",
          "text": [
            "Ada Boost KFold accuracy when estimate is  10  :  94.9119373776908\n",
            "Ada Boost KFold accuracy when estimate is  20  :  94.99021526418787\n",
            "Ada Boost KFold accuracy when estimate is  40  :  95.00978473581213\n",
            "Ada Boost KFold accuracy when estimate is  60  :  94.9706457925636\n",
            "Ada Boost KFold accuracy when estimate is  80  :  95.00978473581213\n",
            "Ada Boost KFold accuracy when estimate is  100  :  95.00978473581213\n"
          ],
          "name": "stdout"
        }
      ]
    }
  ]
}